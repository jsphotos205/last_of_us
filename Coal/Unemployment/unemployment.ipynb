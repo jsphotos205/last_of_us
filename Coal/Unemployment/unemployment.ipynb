{
 "cells": [
  {
   "cell_type": "code",
   "execution_count": 20,
   "metadata": {},
   "outputs": [],
   "source": [
    "import pandas as pd\n",
    "import matplotlib.pyplot as plt\n",
    "import numpy as np"
   ]
  },
  {
   "cell_type": "code",
   "execution_count": 21,
   "metadata": {},
   "outputs": [
    {
     "data": {
      "text/html": [
       "<div>\n",
       "<style scoped>\n",
       "    .dataframe tbody tr th:only-of-type {\n",
       "        vertical-align: middle;\n",
       "    }\n",
       "\n",
       "    .dataframe tbody tr th {\n",
       "        vertical-align: top;\n",
       "    }\n",
       "\n",
       "    .dataframe thead th {\n",
       "        text-align: right;\n",
       "    }\n",
       "</style>\n",
       "<table border=\"1\" class=\"dataframe\">\n",
       "  <thead>\n",
       "    <tr style=\"text-align: right;\">\n",
       "      <th></th>\n",
       "      <th>county</th>\n",
       "      <th>2016</th>\n",
       "      <th>2017</th>\n",
       "      <th>2018</th>\n",
       "      <th>2019</th>\n",
       "      <th>2020</th>\n",
       "      <th>2021</th>\n",
       "    </tr>\n",
       "  </thead>\n",
       "  <tbody>\n",
       "    <tr>\n",
       "      <th>0</th>\n",
       "      <td>Autauga County, Alabama</td>\n",
       "      <td>41196.0</td>\n",
       "      <td>41527.0</td>\n",
       "      <td>41831.0</td>\n",
       "      <td>42175.0</td>\n",
       "      <td>42496.0</td>\n",
       "      <td>44438.0</td>\n",
       "    </tr>\n",
       "    <tr>\n",
       "      <th>1</th>\n",
       "      <td>Baldwin County, Alabama</td>\n",
       "      <td>155240.0</td>\n",
       "      <td>158361.0</td>\n",
       "      <td>162430.0</td>\n",
       "      <td>166595.0</td>\n",
       "      <td>171296.0</td>\n",
       "      <td>178105.0</td>\n",
       "    </tr>\n",
       "    <tr>\n",
       "      <th>2</th>\n",
       "      <td>Barbour County, Alabama</td>\n",
       "      <td>20879.0</td>\n",
       "      <td>20687.0</td>\n",
       "      <td>20346.0</td>\n",
       "      <td>20054.0</td>\n",
       "      <td>19804.0</td>\n",
       "      <td>19995.0</td>\n",
       "    </tr>\n",
       "    <tr>\n",
       "      <th>3</th>\n",
       "      <td>Bibb County, Alabama</td>\n",
       "      <td>17816.0</td>\n",
       "      <td>17852.0</td>\n",
       "      <td>17868.0</td>\n",
       "      <td>17862.0</td>\n",
       "      <td>17790.0</td>\n",
       "      <td>17800.0</td>\n",
       "    </tr>\n",
       "    <tr>\n",
       "      <th>4</th>\n",
       "      <td>Blount County, Alabama</td>\n",
       "      <td>44103.0</td>\n",
       "      <td>44102.0</td>\n",
       "      <td>44177.0</td>\n",
       "      <td>44292.0</td>\n",
       "      <td>44383.0</td>\n",
       "      <td>45201.0</td>\n",
       "    </tr>\n",
       "    <tr>\n",
       "      <th>...</th>\n",
       "      <td>...</td>\n",
       "      <td>...</td>\n",
       "      <td>...</td>\n",
       "      <td>...</td>\n",
       "      <td>...</td>\n",
       "      <td>...</td>\n",
       "      <td>...</td>\n",
       "    </tr>\n",
       "    <tr>\n",
       "      <th>3215</th>\n",
       "      <td>Vega Baja Municipio, Puerto Rico</td>\n",
       "      <td>43455.0</td>\n",
       "      <td>42989.0</td>\n",
       "      <td>42353.0</td>\n",
       "      <td>41843.0</td>\n",
       "      <td>41383.0</td>\n",
       "      <td>44604.0</td>\n",
       "    </tr>\n",
       "    <tr>\n",
       "      <th>3216</th>\n",
       "      <td>Vieques Municipio, Puerto Rico</td>\n",
       "      <td>7080.0</td>\n",
       "      <td>7051.0</td>\n",
       "      <td>6985.0</td>\n",
       "      <td>6946.0</td>\n",
       "      <td>6884.0</td>\n",
       "      <td>6760.0</td>\n",
       "    </tr>\n",
       "    <tr>\n",
       "      <th>3217</th>\n",
       "      <td>Villalba Municipio, Puerto Rico</td>\n",
       "      <td>18328.0</td>\n",
       "      <td>18113.0</td>\n",
       "      <td>17809.0</td>\n",
       "      <td>17547.0</td>\n",
       "      <td>17344.0</td>\n",
       "      <td>17811.0</td>\n",
       "    </tr>\n",
       "    <tr>\n",
       "      <th>3218</th>\n",
       "      <td>Yabucoa Municipio, Puerto Rico</td>\n",
       "      <td>27829.0</td>\n",
       "      <td>27598.0</td>\n",
       "      <td>27227.0</td>\n",
       "      <td>27029.0</td>\n",
       "      <td>26803.0</td>\n",
       "      <td>25533.0</td>\n",
       "    </tr>\n",
       "    <tr>\n",
       "      <th>3219</th>\n",
       "      <td>Yauco Municipio, Puerto Rico</td>\n",
       "      <td>30268.0</td>\n",
       "      <td>29819.0</td>\n",
       "      <td>29212.0</td>\n",
       "      <td>28676.0</td>\n",
       "      <td>28215.0</td>\n",
       "      <td>28555.0</td>\n",
       "    </tr>\n",
       "  </tbody>\n",
       "</table>\n",
       "<p>3219 rows × 7 columns</p>\n",
       "</div>"
      ],
      "text/plain": [
       "                                county      2016      2017      2018  \\\n",
       "0              Autauga County, Alabama   41196.0   41527.0   41831.0   \n",
       "1              Baldwin County, Alabama  155240.0  158361.0  162430.0   \n",
       "2              Barbour County, Alabama   20879.0   20687.0   20346.0   \n",
       "3                 Bibb County, Alabama   17816.0   17852.0   17868.0   \n",
       "4               Blount County, Alabama   44103.0   44102.0   44177.0   \n",
       "...                                ...       ...       ...       ...   \n",
       "3215  Vega Baja Municipio, Puerto Rico   43455.0   42989.0   42353.0   \n",
       "3216    Vieques Municipio, Puerto Rico    7080.0    7051.0    6985.0   \n",
       "3217   Villalba Municipio, Puerto Rico   18328.0   18113.0   17809.0   \n",
       "3218    Yabucoa Municipio, Puerto Rico   27829.0   27598.0   27227.0   \n",
       "3219      Yauco Municipio, Puerto Rico   30268.0   29819.0   29212.0   \n",
       "\n",
       "          2019      2020      2021  \n",
       "0      42175.0   42496.0   44438.0  \n",
       "1     166595.0  171296.0  178105.0  \n",
       "2      20054.0   19804.0   19995.0  \n",
       "3      17862.0   17790.0   17800.0  \n",
       "4      44292.0   44383.0   45201.0  \n",
       "...        ...       ...       ...  \n",
       "3215   41843.0   41383.0   44604.0  \n",
       "3216    6946.0    6884.0    6760.0  \n",
       "3217   17547.0   17344.0   17811.0  \n",
       "3218   27029.0   26803.0   25533.0  \n",
       "3219   28676.0   28215.0   28555.0  \n",
       "\n",
       "[3219 rows x 7 columns]"
      ]
     },
     "execution_count": 21,
     "metadata": {},
     "output_type": "execute_result"
    }
   ],
   "source": [
    "df = pd.read_csv('/Users/johnchristophersloan/the_last_of_us/Coal/Unemployment/Data.csv')\n",
    "df_cleaned = df.dropna()\n",
    "df_cleaned"
   ]
  },
  {
   "cell_type": "code",
   "execution_count": 22,
   "metadata": {},
   "outputs": [
    {
     "data": {
      "text/plain": [
       "county     object\n",
       "2016      float64\n",
       "2017      float64\n",
       "2018      float64\n",
       "2019      float64\n",
       "2020      float64\n",
       "2021      float64\n",
       "dtype: object"
      ]
     },
     "execution_count": 22,
     "metadata": {},
     "output_type": "execute_result"
    }
   ],
   "source": [
    "df_cleaned.dtypes"
   ]
  },
  {
   "cell_type": "code",
   "execution_count": 23,
   "metadata": {},
   "outputs": [],
   "source": [
    "county = df_cleaned['county']\n",
    "year_2016 = df_cleaned['2016']\n",
    "year_2017 = df_cleaned['2017']\n",
    "year_2018 = df_cleaned['2018']\n",
    "year_2019 = df_cleaned['2019']\n",
    "year_2020 = df_cleaned['2020']\n",
    "year_2021 = df_cleaned['2021']"
   ]
  },
  {
   "cell_type": "code",
   "execution_count": 24,
   "metadata": {},
   "outputs": [
    {
     "data": {
      "text/plain": [
       "[<matplotlib.lines.Line2D at 0x7f89e634b1c0>]"
      ]
     },
     "execution_count": 24,
     "metadata": {},
     "output_type": "execute_result"
    },
    {
     "data": {
      "image/png": "[encoded data removed]",
      "text/plain": [
       "<Figure size 640x480 with 1 Axes>"
      ]
     },
     "metadata": {},
     "output_type": "display_data"
    }
   ],
   "source": [
    "plt.plot(county,year_2016)"
   ]
  }
 ],
 "metadata": {
  "kernelspec": {
   "display_name": "base",
   "language": "python",
   "name": "python3"
  },
  "language_info": {
   "codemirror_mode": {
    "name": "ipython",
    "version": 3
   },
   "file_extension": ".py",
   "mimetype": "text/x-python",
   "name": "python",
   "nbconvert_exporter": "python",
   "pygments_lexer": "ipython3",
   "version": "3.9.13"
  },
  "orig_nbformat": 4,
  "vscode": {
   "interpreter": {
    "hash": "40d3a090f54c6569ab1632332b64b2c03c39dcf918b08424e98f38b5ae0af88f"
   }
  }
 },
 "nbformat": 4,
 "nbformat_minor": 2
}
