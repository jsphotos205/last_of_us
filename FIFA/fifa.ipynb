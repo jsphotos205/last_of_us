{
 "cells": [
  {
   "cell_type": "code",
   "execution_count": 44,
   "metadata": {},
   "outputs": [],
   "source": [
    "import pandas as pd\n",
    "import matplotlib.pyplot as plt\n",
    "import numpy as np"
   ]
  },
  {
   "attachments": {},
   "cell_type": "markdown",
   "metadata": {},
   "source": [
    "##### Import CSV File and clean data"
   ]
  },
  {
   "cell_type": "code",
   "execution_count": 60,
   "metadata": {},
   "outputs": [],
   "source": [
    "df = pd.read_csv('/Users/johnchristophersloan/the_last_of_us/FIFA/archive/WorldCupMatches.csv')\n",
    "del df['Datetime']\n",
    "del df['Win conditions']\n",
    "del df['Stadium']\n",
    "df_cleaned = df.dropna()"
   ]
  },
  {
   "cell_type": "code",
   "execution_count": 69,
   "metadata": {},
   "outputs": [],
   "source": [
    "year = df_cleaned['Year']\n",
    "stage = df_cleaned['Stage']\n",
    "city = df_cleaned['City']\n",
    "attendance = df_cleaned['Attendance']\n",
    "round_id = df_cleaned['RoundID']\n",
    "match_id = df_cleaned['MatchID']\n",
    "\n",
    "\n",
    "home_team = df_cleaned['Home Team Name']\n",
    "home_team_initials = df_cleaned['Home Team Initials']\n",
    "home_halftime_goals = df_cleaned['Half-time Home Goals']\n",
    "home_final_goals = df_cleaned['Home Team Goals']\n",
    "\n",
    "away_team = df_cleaned['Away Team Name']\n",
    "away_team_initials = df_cleaned['Away Team Initials']\n",
    "away_halftime_goals = df_cleaned['Half-time Away Goals']\n",
    "away_final_goals = df_cleaned['Away Team Goals']\n",
    "\n",
    "referee = df_cleaned['Referee']\n",
    "referee_assistant_one = df_cleaned['Assistant 1']\n",
    "referee_assistant_two = df_cleaned['Assistant 2']"
   ]
  }
 ],
 "metadata": {
  "kernelspec": {
   "display_name": "base",
   "language": "python",
   "name": "python3"
  },
  "language_info": {
   "codemirror_mode": {
    "name": "ipython",
    "version": 3
   },
   "file_extension": ".py",
   "mimetype": "text/x-python",
   "name": "python",
   "nbconvert_exporter": "python",
   "pygments_lexer": "ipython3",
   "version": "3.9.13"
  },
  "orig_nbformat": 4,
  "vscode": {
   "interpreter": {
    "hash": "40d3a090f54c6569ab1632332b64b2c03c39dcf918b08424e98f38b5ae0af88f"
   }
  }
 },
 "nbformat": 4,
 "nbformat_minor": 2
}
